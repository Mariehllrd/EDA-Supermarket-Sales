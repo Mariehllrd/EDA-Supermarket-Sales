{
 "cells": [
  {
   "cell_type": "markdown",
   "metadata": {},
   "source": [
    "### Importing Libraries"
   ]
  },
  {
   "cell_type": "code",
   "execution_count": 2,
   "metadata": {},
   "outputs": [],
   "source": [
    "import pandas as pd\n",
    "import matplotlib.pyplot as plt\n",
    "%matplotlib inline\n",
    "%config InlineBackend.figure_format = 'retina'\n",
    "import seaborn as sns"
   ]
  },
  {
   "cell_type": "code",
   "execution_count": 5,
   "metadata": {},
   "outputs": [],
   "source": [
    "# Importing cleaned dataset and dropping old index\n",
    "\n",
    "retail = pd.read_csv('./dataset/retail.csv')\n",
    "retail = retail.drop('Unnamed: 0', axis=1)"
   ]
  },
  {
   "cell_type": "code",
   "execution_count": null,
   "metadata": {},
   "outputs": [],
   "source": []
  },
  {
   "cell_type": "code",
   "execution_count": null,
   "metadata": {},
   "outputs": [],
   "source": []
  },
  {
   "cell_type": "code",
   "execution_count": null,
   "metadata": {},
   "outputs": [],
   "source": []
  },
  {
   "cell_type": "code",
   "execution_count": null,
   "metadata": {},
   "outputs": [],
   "source": [
    "# Distributions\n",
    "fig, axs = plt.subplots(nrows=2, ncols=3, figsize = (20,25))\n",
    "\n",
    "for ax in fig.axes:\n",
    "    plt.sca(ax)\n",
    "    plt.xticks(rotation=45)\n",
    "\n",
    "axs[0, 0].hist(retail['Product line'], color = 'lightblue', bins = 11)\n",
    "axs[0, 0].set_xlabel('Product Type')\n",
    "axs[0, 0].set_ylabel('Frequency')\n",
    "axs[0, 0].set_title('Product Line Distribution')\n",
    "\n",
    "axs[0, 1].hist(retail_original['Payment'], color = 'silver')\n",
    "axs[0, 1].set_xlabel('Payment type')\n",
    "axs[0, 1].set_ylabel('Frequency')\n",
    "axs[0, 1].set_title('Payment Distribution')\n",
    "\n",
    "axs[0, 2].hist(retail_original['Rating'], color = 'wheat', bins = 20)\n",
    "axs[0, 2].axvline(retail_original['Rating'].mean(), color='k', linestyle='dashed', linewidth=1)\n",
    "axs[0, 2].set_xlabel('Rating')\n",
    "axs[0, 2].set_ylabel('Frequency')\n",
    "axs[0, 2].set_title('Rating Distribution')\n",
    "\n",
    "axs[1, 0].hist(retail_original['Branch'], color = 'salmon', bins = 11)\n",
    "axs[1, 0].set_xlabel('Branch')\n",
    "axs[1, 0].set_ylabel('Frequency')\n",
    "axs[1, 0].set_title('Branch Distribution')\n",
    "\n",
    "axs[1, 1].hist(retail_original['Unit price'], color = 'teal', bins = 20)\n",
    "axs[1, 1].axvline(retail_original['Unit price'].mean(), color='k', linestyle='dashed', linewidth=1)\n",
    "axs[1, 1].set_xlabel('Unit price')\n",
    "axs[1, 1].set_ylabel('Frequency')\n",
    "axs[1, 1].set_title('Unit price Distribution')\n",
    "\n",
    "axs[1, 2].hist(retail_original['Hour'], color = 'lavender', bins = 10)\n",
    "axs[1, 2].set_xlabel('Hour')\n",
    "axs[1, 2].set_ylabel('Frequency')\n",
    "axs[1, 2].set_title('Hour Distribution')\n",
    "\n",
    "plt.show()"
   ]
  }
 ],
 "metadata": {
  "kernelspec": {
   "display_name": "Python 3",
   "language": "python",
   "name": "python3"
  },
  "language_info": {
   "codemirror_mode": {
    "name": "ipython",
    "version": 3
   },
   "file_extension": ".py",
   "mimetype": "text/x-python",
   "name": "python",
   "nbconvert_exporter": "python",
   "pygments_lexer": "ipython3",
   "version": "3.7.4"
  }
 },
 "nbformat": 4,
 "nbformat_minor": 2
}
