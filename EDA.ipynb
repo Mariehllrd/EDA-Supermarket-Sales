{
 "cells": [
  {
   "cell_type": "markdown",
   "metadata": {},
   "source": [
    "### Importing Libraries"
   ]
  },
  {
   "cell_type": "code",
   "execution_count": 1,
   "metadata": {},
   "outputs": [],
   "source": [
    "import pandas as pd\n",
    "import numpy as np\n",
    "import matplotlib.pyplot as plt\n",
    "%matplotlib inline\n",
    "%config InlineBacken.figure_format = 'retina'\n",
    "import seaborn as sns\n",
    "import statsmodels.api as sm"
   ]
  },
  {
   "cell_type": "markdown",
   "metadata": {},
   "source": [
    "### Importing cleaned dataset"
   ]
  },
  {
   "cell_type": "code",
   "execution_count": 2,
   "metadata": {
    "scrolled": true
   },
   "outputs": [
    {
     "data": {
      "text/html": [
       "<div>\n",
       "<style scoped>\n",
       "    .dataframe tbody tr th:only-of-type {\n",
       "        vertical-align: middle;\n",
       "    }\n",
       "\n",
       "    .dataframe tbody tr th {\n",
       "        vertical-align: top;\n",
       "    }\n",
       "\n",
       "    .dataframe thead th {\n",
       "        text-align: right;\n",
       "    }\n",
       "</style>\n",
       "<table border=\"1\" class=\"dataframe\">\n",
       "  <thead>\n",
       "    <tr style=\"text-align: right;\">\n",
       "      <th></th>\n",
       "      <th>Branch</th>\n",
       "      <th>YearMonth</th>\n",
       "      <th>Weekday</th>\n",
       "      <th>Hour</th>\n",
       "      <th>Product line</th>\n",
       "      <th>Unit price</th>\n",
       "      <th>Quantity</th>\n",
       "      <th>Total</th>\n",
       "      <th>Rating</th>\n",
       "    </tr>\n",
       "  </thead>\n",
       "  <tbody>\n",
       "    <tr>\n",
       "      <td>0</td>\n",
       "      <td>A</td>\n",
       "      <td>2019-01</td>\n",
       "      <td>5</td>\n",
       "      <td>13</td>\n",
       "      <td>Health and beauty</td>\n",
       "      <td>74.69</td>\n",
       "      <td>7</td>\n",
       "      <td>548.9715</td>\n",
       "      <td>9.1</td>\n",
       "    </tr>\n",
       "    <tr>\n",
       "      <td>1</td>\n",
       "      <td>C</td>\n",
       "      <td>2019-03</td>\n",
       "      <td>4</td>\n",
       "      <td>10</td>\n",
       "      <td>Electronic accessories</td>\n",
       "      <td>15.28</td>\n",
       "      <td>5</td>\n",
       "      <td>80.2200</td>\n",
       "      <td>9.6</td>\n",
       "    </tr>\n",
       "    <tr>\n",
       "      <td>2</td>\n",
       "      <td>A</td>\n",
       "      <td>2019-03</td>\n",
       "      <td>6</td>\n",
       "      <td>13</td>\n",
       "      <td>Home and lifestyle</td>\n",
       "      <td>46.33</td>\n",
       "      <td>7</td>\n",
       "      <td>340.5255</td>\n",
       "      <td>7.4</td>\n",
       "    </tr>\n",
       "    <tr>\n",
       "      <td>3</td>\n",
       "      <td>A</td>\n",
       "      <td>2019-01</td>\n",
       "      <td>6</td>\n",
       "      <td>20</td>\n",
       "      <td>Health and beauty</td>\n",
       "      <td>58.22</td>\n",
       "      <td>8</td>\n",
       "      <td>489.0480</td>\n",
       "      <td>8.4</td>\n",
       "    </tr>\n",
       "    <tr>\n",
       "      <td>4</td>\n",
       "      <td>A</td>\n",
       "      <td>2019-02</td>\n",
       "      <td>4</td>\n",
       "      <td>10</td>\n",
       "      <td>Sports and travel</td>\n",
       "      <td>86.31</td>\n",
       "      <td>7</td>\n",
       "      <td>634.3785</td>\n",
       "      <td>5.3</td>\n",
       "    </tr>\n",
       "  </tbody>\n",
       "</table>\n",
       "</div>"
      ],
      "text/plain": [
       "  Branch YearMonth  Weekday  Hour            Product line  Unit price  \\\n",
       "0      A   2019-01        5    13       Health and beauty       74.69   \n",
       "1      C   2019-03        4    10  Electronic accessories       15.28   \n",
       "2      A   2019-03        6    13      Home and lifestyle       46.33   \n",
       "3      A   2019-01        6    20       Health and beauty       58.22   \n",
       "4      A   2019-02        4    10       Sports and travel       86.31   \n",
       "\n",
       "   Quantity     Total  Rating  \n",
       "0         7  548.9715     9.1  \n",
       "1         5   80.2200     9.6  \n",
       "2         7  340.5255     7.4  \n",
       "3         8  489.0480     8.4  \n",
       "4         7  634.3785     5.3  "
      ]
     },
     "execution_count": 2,
     "metadata": {},
     "output_type": "execute_result"
    }
   ],
   "source": [
    "# Importing cleaned dataset and dropping old index\n",
    "\n",
    "retail = pd.read_csv('./dataset/retail.csv')\n",
    "retail = retail.drop('Unnamed: 0', axis=1)\n",
    "retail.head()"
   ]
  },
  {
   "cell_type": "markdown",
   "metadata": {},
   "source": [
    "### First insights"
   ]
  },
  {
   "cell_type": "code",
   "execution_count": 3,
   "metadata": {
    "scrolled": true
   },
   "outputs": [
    {
     "data": {
      "text/html": [
       "<div>\n",
       "<style scoped>\n",
       "    .dataframe tbody tr th:only-of-type {\n",
       "        vertical-align: middle;\n",
       "    }\n",
       "\n",
       "    .dataframe tbody tr th {\n",
       "        vertical-align: top;\n",
       "    }\n",
       "\n",
       "    .dataframe thead th {\n",
       "        text-align: right;\n",
       "    }\n",
       "</style>\n",
       "<table border=\"1\" class=\"dataframe\">\n",
       "  <thead>\n",
       "    <tr style=\"text-align: right;\">\n",
       "      <th></th>\n",
       "      <th>Weekday</th>\n",
       "      <th>Hour</th>\n",
       "      <th>Unit price</th>\n",
       "      <th>Quantity</th>\n",
       "      <th>Total</th>\n",
       "      <th>Rating</th>\n",
       "    </tr>\n",
       "  </thead>\n",
       "  <tbody>\n",
       "    <tr>\n",
       "      <td>count</td>\n",
       "      <td>1000.000000</td>\n",
       "      <td>1000.000000</td>\n",
       "      <td>1000.000000</td>\n",
       "      <td>1000.000000</td>\n",
       "      <td>991.000000</td>\n",
       "      <td>1000.00000</td>\n",
       "    </tr>\n",
       "    <tr>\n",
       "      <td>mean</td>\n",
       "      <td>3.032000</td>\n",
       "      <td>14.910000</td>\n",
       "      <td>55.672130</td>\n",
       "      <td>5.510000</td>\n",
       "      <td>316.604752</td>\n",
       "      <td>6.97270</td>\n",
       "    </tr>\n",
       "    <tr>\n",
       "      <td>std</td>\n",
       "      <td>1.973543</td>\n",
       "      <td>3.186857</td>\n",
       "      <td>26.494628</td>\n",
       "      <td>2.923431</td>\n",
       "      <td>237.709589</td>\n",
       "      <td>1.71858</td>\n",
       "    </tr>\n",
       "    <tr>\n",
       "      <td>min</td>\n",
       "      <td>0.000000</td>\n",
       "      <td>10.000000</td>\n",
       "      <td>10.080000</td>\n",
       "      <td>1.000000</td>\n",
       "      <td>10.678500</td>\n",
       "      <td>4.00000</td>\n",
       "    </tr>\n",
       "    <tr>\n",
       "      <td>25%</td>\n",
       "      <td>1.000000</td>\n",
       "      <td>12.000000</td>\n",
       "      <td>32.875000</td>\n",
       "      <td>3.000000</td>\n",
       "      <td>122.167500</td>\n",
       "      <td>5.50000</td>\n",
       "    </tr>\n",
       "    <tr>\n",
       "      <td>50%</td>\n",
       "      <td>3.000000</td>\n",
       "      <td>15.000000</td>\n",
       "      <td>55.230000</td>\n",
       "      <td>5.000000</td>\n",
       "      <td>252.756000</td>\n",
       "      <td>7.00000</td>\n",
       "    </tr>\n",
       "    <tr>\n",
       "      <td>75%</td>\n",
       "      <td>5.000000</td>\n",
       "      <td>18.000000</td>\n",
       "      <td>77.935000</td>\n",
       "      <td>8.000000</td>\n",
       "      <td>464.667000</td>\n",
       "      <td>8.50000</td>\n",
       "    </tr>\n",
       "    <tr>\n",
       "      <td>max</td>\n",
       "      <td>6.000000</td>\n",
       "      <td>20.000000</td>\n",
       "      <td>99.960000</td>\n",
       "      <td>10.000000</td>\n",
       "      <td>951.825000</td>\n",
       "      <td>10.00000</td>\n",
       "    </tr>\n",
       "  </tbody>\n",
       "</table>\n",
       "</div>"
      ],
      "text/plain": [
       "           Weekday         Hour   Unit price     Quantity       Total  \\\n",
       "count  1000.000000  1000.000000  1000.000000  1000.000000  991.000000   \n",
       "mean      3.032000    14.910000    55.672130     5.510000  316.604752   \n",
       "std       1.973543     3.186857    26.494628     2.923431  237.709589   \n",
       "min       0.000000    10.000000    10.080000     1.000000   10.678500   \n",
       "25%       1.000000    12.000000    32.875000     3.000000  122.167500   \n",
       "50%       3.000000    15.000000    55.230000     5.000000  252.756000   \n",
       "75%       5.000000    18.000000    77.935000     8.000000  464.667000   \n",
       "max       6.000000    20.000000    99.960000    10.000000  951.825000   \n",
       "\n",
       "           Rating  \n",
       "count  1000.00000  \n",
       "mean      6.97270  \n",
       "std       1.71858  \n",
       "min       4.00000  \n",
       "25%       5.50000  \n",
       "50%       7.00000  \n",
       "75%       8.50000  \n",
       "max      10.00000  "
      ]
     },
     "execution_count": 3,
     "metadata": {},
     "output_type": "execute_result"
    }
   ],
   "source": [
    "retail.describe()"
   ]
  },
  {
   "cell_type": "markdown",
   "metadata": {},
   "source": [
    "- The mean is most of the time closed to the median which shows that the data is concentrated around the mean.\n",
    "- Unit price (in USD): between 10.08 to 99.96 with an average of 55.67\n",
    "- Quantity: between 1 and 10 with a median of 5 - the buyers don't buy many articles at once\n",
    "- Total spent (in USD): between 10ish to 951.82 with an average around 316\n",
    "- Ratings: between 4 and 10 with a mean of 6.97"
   ]
  },
  {
   "cell_type": "code",
   "execution_count": 4,
   "metadata": {},
   "outputs": [
    {
     "data": {
      "text/plain": [
       "Index(['Branch', 'YearMonth', 'Weekday', 'Hour', 'Product line', 'Unit price',\n",
       "       'Quantity', 'Total', 'Rating'],\n",
       "      dtype='object')"
      ]
     },
     "execution_count": 4,
     "metadata": {},
     "output_type": "execute_result"
    }
   ],
   "source": [
    "retail.columns"
   ]
  },
  {
   "cell_type": "markdown",
   "metadata": {},
   "source": [
    "### 1. Can we see different customer behavior depending on the branches?"
   ]
  },
  {
   "cell_type": "markdown",
   "metadata": {},
   "source": [
    "#### Branches distribution"
   ]
  },
  {
   "cell_type": "code",
   "execution_count": 5,
   "metadata": {},
   "outputs": [
    {
     "data": {
      "text/plain": [
       "A    340\n",
       "B    332\n",
       "C    328\n",
       "Name: Branch, dtype: int64"
      ]
     },
     "execution_count": 5,
     "metadata": {},
     "output_type": "execute_result"
    }
   ],
   "source": [
    "# Branches distribution\n",
    "retail['Branch'].value_counts()"
   ]
  },
  {
   "cell_type": "code",
   "execution_count": 6,
   "metadata": {
    "scrolled": true
   },
   "outputs": [
    {
     "data": {
      "image/png": "[encoded data removed]",
      "text/plain": [
       "<Figure size 432x288 with 1 Axes>"
      ]
     },
     "metadata": {
      "needs_background": "light"
     },
     "output_type": "display_data"
    }
   ],
   "source": [
    "# Very close to balanced population\n",
    "plt.hist(retail[\"Branch\"].sort_values(), color = \"lightsteelblue\", bins = 5)\n",
    "plt.xlabel('Branches')\n",
    "plt.ylabel('Frequency')\n",
    "plt.title('Branch distribution')\n",
    "plt.show()"
   ]
  },
  {
   "cell_type": "code",
   "execution_count": 7,
   "metadata": {},
   "outputs": [
    {
     "data": {
      "image/png": "[encoded data removed]",
      "text/plain": [
       "<Figure size 432x288 with 1 Axes>"
      ]
     },
     "metadata": {},
     "output_type": "display_data"
    }
   ],
   "source": [
    "plt.pie(retail['Branch'].value_counts(), labels = ['A','B', 'C'], \n",
    "        colors = ['aliceblue', 'lightsteelblue', 'cadetblue'], autopct='%1.1f%%', shadow=True, startangle=90)\n",
    "plt.title('Branch distribution')\n",
    "plt.show()"
   ]
  },
  {
   "cell_type": "markdown",
   "metadata": {},
   "source": [
    "#### Product line"
   ]
  },
  {
   "cell_type": "code",
   "execution_count": 8,
   "metadata": {},
   "outputs": [
    {
     "data": {
      "text/html": [
       "<div>\n",
       "<style scoped>\n",
       "    .dataframe tbody tr th:only-of-type {\n",
       "        vertical-align: middle;\n",
       "    }\n",
       "\n",
       "    .dataframe tbody tr th {\n",
       "        vertical-align: top;\n",
       "    }\n",
       "\n",
       "    .dataframe thead th {\n",
       "        text-align: right;\n",
       "    }\n",
       "</style>\n",
       "<table border=\"1\" class=\"dataframe\">\n",
       "  <thead>\n",
       "    <tr style=\"text-align: right;\">\n",
       "      <th>Product line</th>\n",
       "      <th>Electronic accessories</th>\n",
       "      <th>Fashion accessories</th>\n",
       "      <th>Food and beverages</th>\n",
       "      <th>Health and beauty</th>\n",
       "      <th>Home and lifestyle</th>\n",
       "      <th>Sports and travel</th>\n",
       "    </tr>\n",
       "    <tr>\n",
       "      <th>Branch</th>\n",
       "      <th></th>\n",
       "      <th></th>\n",
       "      <th></th>\n",
       "      <th></th>\n",
       "      <th></th>\n",
       "      <th></th>\n",
       "    </tr>\n",
       "  </thead>\n",
       "  <tbody>\n",
       "    <tr>\n",
       "      <td>A</td>\n",
       "      <td>17.65</td>\n",
       "      <td>15.00</td>\n",
       "      <td>17.06</td>\n",
       "      <td>13.82</td>\n",
       "      <td>19.12</td>\n",
       "      <td>17.35</td>\n",
       "    </tr>\n",
       "    <tr>\n",
       "      <td>B</td>\n",
       "      <td>16.57</td>\n",
       "      <td>18.67</td>\n",
       "      <td>15.06</td>\n",
       "      <td>15.96</td>\n",
       "      <td>15.06</td>\n",
       "      <td>18.67</td>\n",
       "    </tr>\n",
       "    <tr>\n",
       "      <td>C</td>\n",
       "      <td>16.77</td>\n",
       "      <td>19.82</td>\n",
       "      <td>20.12</td>\n",
       "      <td>15.85</td>\n",
       "      <td>13.72</td>\n",
       "      <td>13.72</td>\n",
       "    </tr>\n",
       "  </tbody>\n",
       "</table>\n",
       "</div>"
      ],
      "text/plain": [
       "Product line  Electronic accessories  Fashion accessories  Food and beverages  \\\n",
       "Branch                                                                          \n",
       "A                              17.65                15.00               17.06   \n",
       "B                              16.57                18.67               15.06   \n",
       "C                              16.77                19.82               20.12   \n",
       "\n",
       "Product line  Health and beauty  Home and lifestyle  Sports and travel  \n",
       "Branch                                                                  \n",
       "A                         13.82               19.12              17.35  \n",
       "B                         15.96               15.06              18.67  \n",
       "C                         15.85               13.72              13.72  "
      ]
     },
     "execution_count": 8,
     "metadata": {},
     "output_type": "execute_result"
    }
   ],
   "source": [
    "# Branches distribution by branches (in %)\n",
    "branch_cross = pd.crosstab(index = retail['Branch'], columns = retail['Product line'], normalize='index')\\\n",
    "    .round(4)*100\n",
    "branch_cross"
   ]
  },
  {
   "cell_type": "code",
   "execution_count": 9,
   "metadata": {
    "scrolled": false
   },
   "outputs": [
    {
     "data": {
      "image/png": "[encoded data removed]",
      "text/plain": [
       "<Figure size 1440x720 with 1 Axes>"
      ]
     },
     "metadata": {
      "needs_background": "light"
     },
     "output_type": "display_data"
    }
   ],
   "source": [
    "ax = branch_cross.plot.bar(color = ['aliceblue', 'powderblue', 'lightsteelblue', 'cadetblue', 'teal', \n",
    "                                    'darkslategrey'], edgecolor= 'black', figsize=(20,10), width = 0.7)\n",
    "plt.xticks(rotation = 360)\n",
    "for p in ax.patches:\n",
    "    ax.annotate(str(round(p.get_height(),2)), (p.get_x() * 1.005, p.get_height() * 1.005))\n",
    "\n",
    "plt.show()"
   ]
  },
  {
   "cell_type": "markdown",
   "metadata": {},
   "source": [
    "All the branches sales are different:\n",
    "\n",
    "Branch A: \n",
    "- 19.12% of the sales are 'Home and lifestyle' products\n",
    "- Only 13.82% of the sales are 'Health and beauty' products\n",
    "\n",
    "Branch B:\n",
    "- 'Fashion accessories' and 'Sports and travel' are the most sale products with 18.67 of the total for each \n",
    "- Least sale: 'Food and beverage' and 'Home and lifestyle'\n",
    "\n",
    "Branch C:\n",
    "- Branch with the most difference between the products\n",
    "- Most sold: 'Fashion accessories' and 'Food and beverage' with 19.82% and 20.12%\n",
    "- Least sold: 'Home and lifestyle' and 'Sports and travel' with 13.72%"
   ]
  },
  {
   "cell_type": "markdown",
   "metadata": {},
   "source": [
    "#### Quantity"
   ]
  },
  {
   "cell_type": "code",
   "execution_count": 10,
   "metadata": {},
   "outputs": [],
   "source": [
    "quantity = pd.crosstab(index = retail.Branch, columns = retail.Quantity)"
   ]
  },
  {
   "cell_type": "markdown",
   "metadata": {},
   "source": [
    "### 2. Is the time influencing the customer behavior?"
   ]
  },
  {
   "cell_type": "code",
   "execution_count": 11,
   "metadata": {
    "scrolled": true
   },
   "outputs": [
    {
     "data": {
      "text/html": [
       "<div>\n",
       "<style scoped>\n",
       "    .dataframe tbody tr th:only-of-type {\n",
       "        vertical-align: middle;\n",
       "    }\n",
       "\n",
       "    .dataframe tbody tr th {\n",
       "        vertical-align: top;\n",
       "    }\n",
       "\n",
       "    .dataframe thead th {\n",
       "        text-align: right;\n",
       "    }\n",
       "</style>\n",
       "<table border=\"1\" class=\"dataframe\">\n",
       "  <thead>\n",
       "    <tr style=\"text-align: right;\">\n",
       "      <th></th>\n",
       "      <th>Quantity</th>\n",
       "      <th>Rating</th>\n",
       "      <th>Total</th>\n",
       "    </tr>\n",
       "    <tr>\n",
       "      <th>Hour</th>\n",
       "      <th></th>\n",
       "      <th></th>\n",
       "      <th></th>\n",
       "    </tr>\n",
       "  </thead>\n",
       "  <tbody>\n",
       "    <tr>\n",
       "      <td>10</td>\n",
       "      <td>5.198020</td>\n",
       "      <td>7.098020</td>\n",
       "      <td>311.103772</td>\n",
       "    </tr>\n",
       "    <tr>\n",
       "      <td>11</td>\n",
       "      <td>5.700000</td>\n",
       "      <td>6.806667</td>\n",
       "      <td>337.525883</td>\n",
       "    </tr>\n",
       "    <tr>\n",
       "      <td>12</td>\n",
       "      <td>5.629213</td>\n",
       "      <td>7.300000</td>\n",
       "      <td>292.875084</td>\n",
       "    </tr>\n",
       "    <tr>\n",
       "      <td>13</td>\n",
       "      <td>5.679612</td>\n",
       "      <td>7.030097</td>\n",
       "      <td>309.842697</td>\n",
       "    </tr>\n",
       "    <tr>\n",
       "      <td>14</td>\n",
       "      <td>5.963855</td>\n",
       "      <td>6.934940</td>\n",
       "      <td>363.240841</td>\n",
       "    </tr>\n",
       "    <tr>\n",
       "      <td>15</td>\n",
       "      <td>5.196078</td>\n",
       "      <td>6.876471</td>\n",
       "      <td>305.681456</td>\n",
       "    </tr>\n",
       "    <tr>\n",
       "      <td>16</td>\n",
       "      <td>5.454545</td>\n",
       "      <td>6.859740</td>\n",
       "      <td>308.843780</td>\n",
       "    </tr>\n",
       "    <tr>\n",
       "      <td>17</td>\n",
       "      <td>5.608108</td>\n",
       "      <td>6.939189</td>\n",
       "      <td>320.859288</td>\n",
       "    </tr>\n",
       "    <tr>\n",
       "      <td>18</td>\n",
       "      <td>5.107527</td>\n",
       "      <td>7.187097</td>\n",
       "      <td>279.896129</td>\n",
       "    </tr>\n",
       "    <tr>\n",
       "      <td>19</td>\n",
       "      <td>5.743363</td>\n",
       "      <td>6.716814</td>\n",
       "      <td>351.323124</td>\n",
       "    </tr>\n",
       "    <tr>\n",
       "      <td>20</td>\n",
       "      <td>5.360000</td>\n",
       "      <td>6.977333</td>\n",
       "      <td>296.419824</td>\n",
       "    </tr>\n",
       "  </tbody>\n",
       "</table>\n",
       "</div>"
      ],
      "text/plain": [
       "      Quantity    Rating       Total\n",
       "Hour                                \n",
       "10    5.198020  7.098020  311.103772\n",
       "11    5.700000  6.806667  337.525883\n",
       "12    5.629213  7.300000  292.875084\n",
       "13    5.679612  7.030097  309.842697\n",
       "14    5.963855  6.934940  363.240841\n",
       "15    5.196078  6.876471  305.681456\n",
       "16    5.454545  6.859740  308.843780\n",
       "17    5.608108  6.939189  320.859288\n",
       "18    5.107527  7.187097  279.896129\n",
       "19    5.743363  6.716814  351.323124\n",
       "20    5.360000  6.977333  296.419824"
      ]
     },
     "execution_count": 11,
     "metadata": {},
     "output_type": "execute_result"
    }
   ],
   "source": [
    "# Hour pivot table (mean)\n",
    "hour_pivot = pd.pivot_table(index = 'Hour', values = ['Quantity', 'Rating', 'Total'], \n",
    "                            data = retail, aggfunc = 'mean')\n",
    "hour_pivot"
   ]
  },
  {
   "cell_type": "code",
   "execution_count": 12,
   "metadata": {},
   "outputs": [
    {
     "data": {
      "text/html": [
       "<div>\n",
       "<style scoped>\n",
       "    .dataframe tbody tr th:only-of-type {\n",
       "        vertical-align: middle;\n",
       "    }\n",
       "\n",
       "    .dataframe tbody tr th {\n",
       "        vertical-align: top;\n",
       "    }\n",
       "\n",
       "    .dataframe thead th {\n",
       "        text-align: right;\n",
       "    }\n",
       "</style>\n",
       "<table border=\"1\" class=\"dataframe\">\n",
       "  <thead>\n",
       "    <tr style=\"text-align: right;\">\n",
       "      <th></th>\n",
       "      <th>Quantity</th>\n",
       "      <th>Rating</th>\n",
       "      <th>Total</th>\n",
       "    </tr>\n",
       "    <tr>\n",
       "      <th>Weekday</th>\n",
       "      <th></th>\n",
       "      <th></th>\n",
       "      <th></th>\n",
       "    </tr>\n",
       "  </thead>\n",
       "  <tbody>\n",
       "    <tr>\n",
       "      <td>0</td>\n",
       "      <td>5.104000</td>\n",
       "      <td>7.153600</td>\n",
       "      <td>303.192624</td>\n",
       "    </tr>\n",
       "    <tr>\n",
       "      <td>1</td>\n",
       "      <td>5.455696</td>\n",
       "      <td>7.003165</td>\n",
       "      <td>321.400385</td>\n",
       "    </tr>\n",
       "    <tr>\n",
       "      <td>2</td>\n",
       "      <td>5.594406</td>\n",
       "      <td>6.805594</td>\n",
       "      <td>290.649750</td>\n",
       "    </tr>\n",
       "    <tr>\n",
       "      <td>3</td>\n",
       "      <td>5.471014</td>\n",
       "      <td>6.889855</td>\n",
       "      <td>328.617739</td>\n",
       "    </tr>\n",
       "    <tr>\n",
       "      <td>4</td>\n",
       "      <td>5.453237</td>\n",
       "      <td>7.076259</td>\n",
       "      <td>300.174232</td>\n",
       "    </tr>\n",
       "    <tr>\n",
       "      <td>5</td>\n",
       "      <td>5.603659</td>\n",
       "      <td>6.901829</td>\n",
       "      <td>333.793639</td>\n",
       "    </tr>\n",
       "    <tr>\n",
       "      <td>6</td>\n",
       "      <td>5.849624</td>\n",
       "      <td>7.011278</td>\n",
       "      <td>334.269868</td>\n",
       "    </tr>\n",
       "  </tbody>\n",
       "</table>\n",
       "</div>"
      ],
      "text/plain": [
       "         Quantity    Rating       Total\n",
       "Weekday                                \n",
       "0        5.104000  7.153600  303.192624\n",
       "1        5.455696  7.003165  321.400385\n",
       "2        5.594406  6.805594  290.649750\n",
       "3        5.471014  6.889855  328.617739\n",
       "4        5.453237  7.076259  300.174232\n",
       "5        5.603659  6.901829  333.793639\n",
       "6        5.849624  7.011278  334.269868"
      ]
     },
     "execution_count": 12,
     "metadata": {},
     "output_type": "execute_result"
    }
   ],
   "source": [
    "# Weekday pivot table (mean)\n",
    "day_pivot = pd.pivot_table(index = 'Weekday', values = ['Quantity', 'Rating', 'Total'], \n",
    "                           data = retail, aggfunc = 'mean')\n",
    "day_pivot"
   ]
  },
  {
   "cell_type": "code",
   "execution_count": 35,
   "metadata": {},
   "outputs": [
    {
     "data": {
      "image/png": "[encoded data removed]",
      "text/plain": [
       "<Figure size 1080x360 with 2 Axes>"
      ]
     },
     "metadata": {},
     "output_type": "display_data"
    }
   ],
   "source": [
    "# Defining peak hours\n",
    "sns.set(style=\"white\", palette=\"GnBu_d\")\n",
    "\n",
    "f, axs = plt.subplots(nrows=1, ncols=2, figsize = (15, 5))\n",
    "\n",
    "hour = retail['Hour'].value_counts().sort_index()\n",
    "day = retail['Weekday'].value_counts().sort_index()\n",
    "\n",
    "sns.lineplot(data = hour, ax=axs[0], color = \"k\")\n",
    "axs[0].set_xticks(np.arange(10, 21))\n",
    "axs[0].set_xlabel('Hours')\n",
    "axs[0].set_ylabel('Number of customers')\n",
    "axs[0].set_title('Peak Hours')\n",
    "\n",
    "sns.lineplot(data = day, ax=axs[1], color = \"k\")\n",
    "ticks = ['', 'Mon', 'Tue', 'Wed', 'Thu', 'Fri', 'Sat', 'Sun']\n",
    "axs[1].set_xticklabels(labels = ticks)\n",
    "axs[1].set_xlabel('Weekdays')\n",
    "axs[1].set_ylabel('Number of customers')\n",
    "axs[1].set_title('Peak Weekdays')\n",
    "\n",
    "plt.show()"
   ]
  },
  {
   "cell_type": "markdown",
   "metadata": {},
   "source": [
    "- Peak hour: 19 (low hour: 17)\n",
    "- Peak weekday: Tuesday and Saturday (low weekday: Monday & Sunday)"
   ]
  },
  {
   "cell_type": "markdown",
   "metadata": {},
   "source": [
    "##### Product line"
   ]
  },
  {
   "cell_type": "code",
   "execution_count": 14,
   "metadata": {
    "scrolled": true
   },
   "outputs": [
    {
     "data": {
      "text/html": [
       "<div>\n",
       "<style scoped>\n",
       "    .dataframe tbody tr th:only-of-type {\n",
       "        vertical-align: middle;\n",
       "    }\n",
       "\n",
       "    .dataframe tbody tr th {\n",
       "        vertical-align: top;\n",
       "    }\n",
       "\n",
       "    .dataframe thead th {\n",
       "        text-align: right;\n",
       "    }\n",
       "</style>\n",
       "<table border=\"1\" class=\"dataframe\">\n",
       "  <thead>\n",
       "    <tr style=\"text-align: right;\">\n",
       "      <th>Product line</th>\n",
       "      <th>Electronic accessories</th>\n",
       "      <th>Fashion accessories</th>\n",
       "      <th>Food and beverages</th>\n",
       "      <th>Health and beauty</th>\n",
       "      <th>Home and lifestyle</th>\n",
       "      <th>Sports and travel</th>\n",
       "    </tr>\n",
       "    <tr>\n",
       "      <th>Hour</th>\n",
       "      <th></th>\n",
       "      <th></th>\n",
       "      <th></th>\n",
       "      <th></th>\n",
       "      <th></th>\n",
       "      <th></th>\n",
       "    </tr>\n",
       "  </thead>\n",
       "  <tbody>\n",
       "    <tr>\n",
       "      <td>10</td>\n",
       "      <td>10.00</td>\n",
       "      <td>7.87</td>\n",
       "      <td>11.49</td>\n",
       "      <td>11.18</td>\n",
       "      <td>11.25</td>\n",
       "      <td>9.04</td>\n",
       "    </tr>\n",
       "    <tr>\n",
       "      <td>11</td>\n",
       "      <td>10.59</td>\n",
       "      <td>7.87</td>\n",
       "      <td>6.32</td>\n",
       "      <td>6.58</td>\n",
       "      <td>13.12</td>\n",
       "      <td>9.64</td>\n",
       "    </tr>\n",
       "    <tr>\n",
       "      <td>12</td>\n",
       "      <td>9.41</td>\n",
       "      <td>10.67</td>\n",
       "      <td>5.75</td>\n",
       "      <td>9.21</td>\n",
       "      <td>8.75</td>\n",
       "      <td>9.64</td>\n",
       "    </tr>\n",
       "    <tr>\n",
       "      <td>13</td>\n",
       "      <td>7.65</td>\n",
       "      <td>10.67</td>\n",
       "      <td>8.62</td>\n",
       "      <td>11.18</td>\n",
       "      <td>12.50</td>\n",
       "      <td>11.45</td>\n",
       "    </tr>\n",
       "    <tr>\n",
       "      <td>14</td>\n",
       "      <td>8.24</td>\n",
       "      <td>8.43</td>\n",
       "      <td>6.90</td>\n",
       "      <td>12.50</td>\n",
       "      <td>5.62</td>\n",
       "      <td>8.43</td>\n",
       "    </tr>\n",
       "    <tr>\n",
       "      <td>15</td>\n",
       "      <td>8.82</td>\n",
       "      <td>10.11</td>\n",
       "      <td>12.07</td>\n",
       "      <td>7.89</td>\n",
       "      <td>11.88</td>\n",
       "      <td>10.24</td>\n",
       "    </tr>\n",
       "    <tr>\n",
       "      <td>16</td>\n",
       "      <td>6.47</td>\n",
       "      <td>6.74</td>\n",
       "      <td>9.20</td>\n",
       "      <td>6.58</td>\n",
       "      <td>5.00</td>\n",
       "      <td>12.05</td>\n",
       "    </tr>\n",
       "    <tr>\n",
       "      <td>17</td>\n",
       "      <td>8.24</td>\n",
       "      <td>7.30</td>\n",
       "      <td>3.45</td>\n",
       "      <td>7.24</td>\n",
       "      <td>10.62</td>\n",
       "      <td>7.83</td>\n",
       "    </tr>\n",
       "    <tr>\n",
       "      <td>18</td>\n",
       "      <td>11.76</td>\n",
       "      <td>10.67</td>\n",
       "      <td>9.77</td>\n",
       "      <td>9.21</td>\n",
       "      <td>6.88</td>\n",
       "      <td>7.23</td>\n",
       "    </tr>\n",
       "    <tr>\n",
       "      <td>19</td>\n",
       "      <td>9.41</td>\n",
       "      <td>13.48</td>\n",
       "      <td>14.94</td>\n",
       "      <td>9.21</td>\n",
       "      <td>8.12</td>\n",
       "      <td>12.05</td>\n",
       "    </tr>\n",
       "    <tr>\n",
       "      <td>20</td>\n",
       "      <td>9.41</td>\n",
       "      <td>6.18</td>\n",
       "      <td>11.49</td>\n",
       "      <td>9.21</td>\n",
       "      <td>6.25</td>\n",
       "      <td>2.41</td>\n",
       "    </tr>\n",
       "  </tbody>\n",
       "</table>\n",
       "</div>"
      ],
      "text/plain": [
       "Product line  Electronic accessories  Fashion accessories  Food and beverages  \\\n",
       "Hour                                                                            \n",
       "10                             10.00                 7.87               11.49   \n",
       "11                             10.59                 7.87                6.32   \n",
       "12                              9.41                10.67                5.75   \n",
       "13                              7.65                10.67                8.62   \n",
       "14                              8.24                 8.43                6.90   \n",
       "15                              8.82                10.11               12.07   \n",
       "16                              6.47                 6.74                9.20   \n",
       "17                              8.24                 7.30                3.45   \n",
       "18                             11.76                10.67                9.77   \n",
       "19                              9.41                13.48               14.94   \n",
       "20                              9.41                 6.18               11.49   \n",
       "\n",
       "Product line  Health and beauty  Home and lifestyle  Sports and travel  \n",
       "Hour                                                                    \n",
       "10                        11.18               11.25               9.04  \n",
       "11                         6.58               13.12               9.64  \n",
       "12                         9.21                8.75               9.64  \n",
       "13                        11.18               12.50              11.45  \n",
       "14                        12.50                5.62               8.43  \n",
       "15                         7.89               11.88              10.24  \n",
       "16                         6.58                5.00              12.05  \n",
       "17                         7.24               10.62               7.83  \n",
       "18                         9.21                6.88               7.23  \n",
       "19                         9.21                8.12              12.05  \n",
       "20                         9.21                6.25               2.41  "
      ]
     },
     "execution_count": 14,
     "metadata": {},
     "output_type": "execute_result"
    }
   ],
   "source": [
    "# Product sale VS Hour (in %)\n",
    "product_hour = pd.crosstab(index = retail['Hour'], columns = retail['Product line'], normalize='columns')\\\n",
    "    .round(4)*100\n",
    "product_hour"
   ]
  },
  {
   "cell_type": "code",
   "execution_count": 37,
   "metadata": {},
   "outputs": [
    {
     "data": {
      "image/png": "[encoded data removed]",
      "text/plain": [
       "<Figure size 1440x720 with 6 Axes>"
      ]
     },
     "metadata": {},
     "output_type": "display_data"
    }
   ],
   "source": [
    "fig, axs = plt.subplots(nrows=3, ncols=2, figsize = (20, 25), sharex = True)\n",
    "\n",
    "product_hour['Electronic accessories'].T.plot.bar(color = 'aliceblue'\n",
    "                           , edgecolor= 'black', width = 0.7, ax=axs[0, 0])\n",
    "axs[0, 0].set_ylabel('Frequency')\n",
    "axs[0, 0].set_title('Electronic accessories')\n",
    "\n",
    "product_hour['Fashion accessories'].T.plot.bar(color = 'powderblue'\n",
    "                           , edgecolor= 'black', figsize=(20,10), width = 0.7, ax=axs[0, 1])\n",
    "axs[0, 1].set_ylabel('Frequency')\n",
    "axs[0, 1].set_title('Fashion accessories')\n",
    "\n",
    "product_hour['Food and beverages'].T.plot.bar(color = 'lightsteelblue'\n",
    "                           , edgecolor= 'black', width = 0.7, ax=axs[1, 0])\n",
    "axs[1, 0].set_ylabel('Frequency')\n",
    "axs[1, 0].set_title('Food and beverages')\n",
    "\n",
    "product_hour['Health and beauty'].T.plot.bar(color = 'cadetblue'\n",
    "                           , edgecolor= 'black', width = 0.7, ax=axs[1, 1])\n",
    "axs[1, 1].set_ylabel('Frequency')\n",
    "axs[1, 1].set_title('Health and beauty')\n",
    "\n",
    "product_hour['Home and lifestyle'].T.plot.bar(color = 'teal'\n",
    "                           , edgecolor= 'black', width = 0.7, ax=axs[2, 0])\n",
    "axs[2, 0].set_xlabel('Hour')\n",
    "axs[2, 0].set_ylabel('Frequency')\n",
    "axs[2, 0].set_title('Home and lifestyle')\n",
    "\n",
    "product_hour['Sports and travel'].T.plot.bar(color = 'darkslategrey'\n",
    "                           , edgecolor= 'black', width = 0.7, ax=axs[2, 1])\n",
    "axs[2, 1].set_xlabel('Hour')\n",
    "axs[2, 1].set_ylabel('Frequency')\n",
    "axs[2, 1].set_title('Sports and travel')\n",
    "\n",
    "plt.show()"
   ]
  },
  {
   "cell_type": "markdown",
   "metadata": {},
   "source": []
  },
  {
   "cell_type": "code",
   "execution_count": 41,
   "metadata": {},
   "outputs": [
    {
     "data": {
      "text/html": [
       "<div>\n",
       "<style scoped>\n",
       "    .dataframe tbody tr th:only-of-type {\n",
       "        vertical-align: middle;\n",
       "    }\n",
       "\n",
       "    .dataframe tbody tr th {\n",
       "        vertical-align: top;\n",
       "    }\n",
       "\n",
       "    .dataframe thead th {\n",
       "        text-align: right;\n",
       "    }\n",
       "</style>\n",
       "<table border=\"1\" class=\"dataframe\">\n",
       "  <thead>\n",
       "    <tr style=\"text-align: right;\">\n",
       "      <th>Product line</th>\n",
       "      <th>Electronic accessories</th>\n",
       "      <th>Fashion accessories</th>\n",
       "      <th>Food and beverages</th>\n",
       "      <th>Health and beauty</th>\n",
       "      <th>Home and lifestyle</th>\n",
       "      <th>Sports and travel</th>\n",
       "    </tr>\n",
       "    <tr>\n",
       "      <th>Weekday</th>\n",
       "      <th></th>\n",
       "      <th></th>\n",
       "      <th></th>\n",
       "      <th></th>\n",
       "      <th></th>\n",
       "      <th></th>\n",
       "    </tr>\n",
       "  </thead>\n",
       "  <tbody>\n",
       "    <tr>\n",
       "      <td>0</td>\n",
       "      <td>13.53</td>\n",
       "      <td>10.11</td>\n",
       "      <td>12.64</td>\n",
       "      <td>17.11</td>\n",
       "      <td>12.50</td>\n",
       "      <td>9.64</td>\n",
       "    </tr>\n",
       "    <tr>\n",
       "      <td>1</td>\n",
       "      <td>17.06</td>\n",
       "      <td>14.61</td>\n",
       "      <td>14.94</td>\n",
       "      <td>19.08</td>\n",
       "      <td>13.75</td>\n",
       "      <td>15.66</td>\n",
       "    </tr>\n",
       "    <tr>\n",
       "      <td>2</td>\n",
       "      <td>10.59</td>\n",
       "      <td>15.73</td>\n",
       "      <td>18.97</td>\n",
       "      <td>12.50</td>\n",
       "      <td>11.88</td>\n",
       "      <td>15.66</td>\n",
       "    </tr>\n",
       "    <tr>\n",
       "      <td>3</td>\n",
       "      <td>21.18</td>\n",
       "      <td>11.80</td>\n",
       "      <td>11.49</td>\n",
       "      <td>12.50</td>\n",
       "      <td>11.88</td>\n",
       "      <td>13.86</td>\n",
       "    </tr>\n",
       "    <tr>\n",
       "      <td>4</td>\n",
       "      <td>10.00</td>\n",
       "      <td>16.85</td>\n",
       "      <td>10.92</td>\n",
       "      <td>17.11</td>\n",
       "      <td>15.00</td>\n",
       "      <td>13.86</td>\n",
       "    </tr>\n",
       "    <tr>\n",
       "      <td>5</td>\n",
       "      <td>15.88</td>\n",
       "      <td>19.66</td>\n",
       "      <td>17.82</td>\n",
       "      <td>12.50</td>\n",
       "      <td>15.00</td>\n",
       "      <td>16.87</td>\n",
       "    </tr>\n",
       "    <tr>\n",
       "      <td>6</td>\n",
       "      <td>11.76</td>\n",
       "      <td>11.24</td>\n",
       "      <td>13.22</td>\n",
       "      <td>9.21</td>\n",
       "      <td>20.00</td>\n",
       "      <td>14.46</td>\n",
       "    </tr>\n",
       "  </tbody>\n",
       "</table>\n",
       "</div>"
      ],
      "text/plain": [
       "Product line  Electronic accessories  Fashion accessories  Food and beverages  \\\n",
       "Weekday                                                                         \n",
       "0                              13.53                10.11               12.64   \n",
       "1                              17.06                14.61               14.94   \n",
       "2                              10.59                15.73               18.97   \n",
       "3                              21.18                11.80               11.49   \n",
       "4                              10.00                16.85               10.92   \n",
       "5                              15.88                19.66               17.82   \n",
       "6                              11.76                11.24               13.22   \n",
       "\n",
       "Product line  Health and beauty  Home and lifestyle  Sports and travel  \n",
       "Weekday                                                                 \n",
       "0                         17.11               12.50               9.64  \n",
       "1                         19.08               13.75              15.66  \n",
       "2                         12.50               11.88              15.66  \n",
       "3                         12.50               11.88              13.86  \n",
       "4                         17.11               15.00              13.86  \n",
       "5                         12.50               15.00              16.87  \n",
       "6                          9.21               20.00              14.46  "
      ]
     },
     "execution_count": 41,
     "metadata": {},
     "output_type": "execute_result"
    }
   ],
   "source": [
    "# Product sale VS weekday (in %)\n",
    "product_day = pd.crosstab(index = retail['Weekday'], columns = retail['Product line'], normalize='columns')\\\n",
    "    .round(4)*100\n",
    "product_day"
   ]
  },
  {
   "cell_type": "code",
   "execution_count": 33,
   "metadata": {},
   "outputs": [
    {
     "data": {
      "image/png": "[encoded data removed]",
      "text/plain": [
       "<Figure size 1440x720 with 6 Axes>"
      ]
     },
     "metadata": {},
     "output_type": "display_data"
    }
   ],
   "source": [
    "fig, axs = plt.subplots(nrows=3, ncols=2, figsize = (20, 25), sharex = True)\n",
    "\n",
    "product_day['Electronic accessories'].T.plot.bar(color = 'aliceblue'\n",
    "                           , edgecolor= 'black', width = 0.7, ax=axs[0, 0])\n",
    "axs[0, 0].set_ylabel('Frequency')\n",
    "axs[0, 0].set_title('Electronic accessories')\n",
    "\n",
    "product_day['Fashion accessories'].T.plot.bar(color = 'powderblue'\n",
    "                           , edgecolor= 'black', figsize=(20,10), width = 0.7, ax=axs[0, 1])\n",
    "axs[0, 1].set_ylabel('Frequency')\n",
    "axs[0, 1].set_title('Fashion accessories')\n",
    "\n",
    "product_day['Food and beverages'].T.plot.bar(color = 'lightsteelblue'\n",
    "                           , edgecolor= 'black', width = 0.7, ax=axs[1, 0])\n",
    "axs[1, 0].set_ylabel('Frequency')\n",
    "axs[1, 0].set_title('Food and beverages')\n",
    "\n",
    "product_day['Health and beauty'].T.plot.bar(color = 'cadetblue'\n",
    "                           , edgecolor= 'black', width = 0.7, ax=axs[1, 1])\n",
    "axs[1, 1].set_ylabel('Frequency')\n",
    "axs[1, 1].set_title('Health and beauty')\n",
    "\n",
    "product_day['Home and lifestyle'].T.plot.bar(color = 'teal'\n",
    "                           , edgecolor= 'black', width = 0.7, ax=axs[2, 0])\n",
    "axs[2, 0].set_xticklabels(['Mon', 'Tue', 'Wed', 'Thu', 'Fri', 'Sat', 'Sun'],  rotation = 'horizontal')\n",
    "axs[2, 0].set_xlabel('Day')\n",
    "axs[2, 0].set_ylabel('Frequency')\n",
    "axs[2, 0].set_title('Home and lifestyle')\n",
    "\n",
    "product_day['Sports and travel'].T.plot.bar(color = 'darkslategrey'\n",
    "                           , edgecolor= 'black', width = 0.7, ax=axs[2, 1])\n",
    "axs[2, 1].set_xticklabels(['Mon', 'Tue', 'Wed', 'Thu', 'Fri', 'Sat', 'Sun'], rotation = 'horizontal')\n",
    "axs[2, 1].set_xlabel('Day')\n",
    "axs[2, 1].set_ylabel('Frequency')\n",
    "axs[2, 1].set_title('Sports and travel')\n",
    "\n",
    "plt.show()"
   ]
  },
  {
   "cell_type": "markdown",
   "metadata": {},
   "source": []
  },
  {
   "cell_type": "markdown",
   "metadata": {},
   "source": [
    "##### Quantity"
   ]
  },
  {
   "cell_type": "code",
   "execution_count": 58,
   "metadata": {},
   "outputs": [
    {
     "data": {
      "image/png": "[encoded data removed]",
      "text/plain": [
       "<Figure size 432x288 with 1 Axes>"
      ]
     },
     "metadata": {},
     "output_type": "display_data"
    }
   ],
   "source": [
    "# Distribution\n",
    "retail['Quantity'].plot(kind = 'hist', bins = 10)\n",
    "plt.show()"
   ]
  },
  {
   "cell_type": "code",
   "execution_count": null,
   "metadata": {},
   "outputs": [],
   "source": []
  }
 ],
 "metadata": {
  "kernelspec": {
   "display_name": "Python 3",
   "language": "python",
   "name": "python3"
  },
  "language_info": {
   "codemirror_mode": {
    "name": "ipython",
    "version": 3
   },
   "file_extension": ".py",
   "mimetype": "text/x-python",
   "name": "python",
   "nbconvert_exporter": "python",
   "pygments_lexer": "ipython3",
   "version": "3.7.4"
  }
 },
 "nbformat": 4,
 "nbformat_minor": 2
}
